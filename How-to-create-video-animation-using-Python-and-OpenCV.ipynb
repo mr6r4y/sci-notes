{
 "cells": [
  {
   "cell_type": "markdown",
   "metadata": {},
   "source": [
    "# How to create video animation using Python and OpenCV\n",
    "\n",
    "URL: https://medium.com/@enriqueav/how-to-create-video-animations-using-python-and-opencv-881b18e41397"
   ]
  },
  {
   "cell_type": "code",
   "execution_count": 1,
   "metadata": {},
   "outputs": [],
   "source": [
    "import cv2\n",
    "import numpy as np\n",
    "from cv2 import VideoWriter, VideoWriter_fourcc"
   ]
  },
  {
   "cell_type": "code",
   "execution_count": 2,
   "metadata": {},
   "outputs": [],
   "source": [
    "width = 640\n",
    "height = 360\n",
    "FPS = 24\n",
    "seconds = 10"
   ]
  },
  {
   "cell_type": "code",
   "execution_count": 3,
   "metadata": {},
   "outputs": [],
   "source": [
    "fourcc = VideoWriter_fourcc(*'MP42')\n",
    "video = VideoWriter('data/noise.avi', fourcc, float(FPS), (width, height))\n",
    "video1 = VideoWriter('data/noise1.avi', fourcc, float(FPS), (width, height))"
   ]
  },
  {
   "cell_type": "code",
   "execution_count": 4,
   "metadata": {},
   "outputs": [],
   "source": [
    "for _ in range(FPS*seconds):\n",
    "    frame = np.random.randint(0, 256, \n",
    "                              (height, width, 3), \n",
    "                              dtype=np.uint8)\n",
    "    video.write(frame)\n",
    "    video1.write(frame)"
   ]
  },
  {
   "cell_type": "code",
   "execution_count": 5,
   "metadata": {},
   "outputs": [],
   "source": [
    "video.release()\n",
    "video1.release()"
   ]
  }
 ],
 "metadata": {
  "kernelspec": {
   "display_name": "Python 3.10.6 ('sci')",
   "language": "python",
   "name": "python3"
  },
  "language_info": {
   "codemirror_mode": {
    "name": "ipython",
    "version": 3
   },
   "file_extension": ".py",
   "mimetype": "text/x-python",
   "name": "python",
   "nbconvert_exporter": "python",
   "pygments_lexer": "ipython3",
   "version": "3.10.6"
  },
  "orig_nbformat": 4,
  "vscode": {
   "interpreter": {
    "hash": "adc8b1d7ae51d8421e56638d5192797100ccbc0b6518ed0bb03d546207769f6c"
   }
  }
 },
 "nbformat": 4,
 "nbformat_minor": 2
}
